{
 "cells": [
  {
   "cell_type": "markdown",
   "metadata": {},
   "source": [
    "# Consumer Expenditure Surveys\n",
    "\n",
    "> The *Consumer Expenditure Surveys (CE)* program provides data on expenditures, income, and demographic characteristics of consumers in the United States.  \n",
    "CE data are collected by the Census Bureau for BLS in two surveys, the Interview Survey for major and/or recurring items and the Diary Survey for more minor or frequently purchased items. CE data are primarily used to revise the relative importance of goods and services in the market basket of the Consumer Price Index. The CE is the only Federal household survey to provide information on the complete range of consumers' expenditures and incomes.\n",
    "\n",
    "## Interview Survey\n",
    "\n",
    "> The Interview Survey is a rotating panel survey in which approximately 10,000 addresses are contacted each calendar quarter that yield approximately 6,000 useable interviews. One-fourth of the addresses that are contacted each quarter are new to the survey. After a housing unit has been in the sample for four consecutive quarters, it is dropped from the survey, and a new address is selected to replace it.\n",
    "\n",
    "## Diary Survey\n",
    "\n",
    "> The Diary Survey is a panel survey in which approximately 5,000 addresses are contacted each calendar quarter that yield approximately 3,000 useable interviews. After a housing unit has been in the sample for two consecutive weeks, it is dropped from the survey, and a new address is selected to replace it.\n",
    "\n",
    "## Links\n",
    "\n",
    "[Dataset homepage](https://www.bls.gov/cex/)  \n",
    "[Micro-data](https://www.bls.gov/cex/pumd_data.htm)  \n",
    "[Getting started guide](https://www.bls.gov/cex/pumd-getting-started-guide.htm)  \n",
    "[Data dictionary (XLSX)](https://www.bls.gov/cex/pumd/ce_pumd_interview_diary_dictionary.xlsx)  \n",
    "[Survey forms](https://www.bls.gov/cex/csxsurveyforms.htm)\n",
    "\n",
    "[U of Michigan ICPSR](https://www.icpsr.umich.edu/web/ICPSR/series/20) - alternative source of data."
   ]
  },
  {
   "cell_type": "code",
   "execution_count": 1,
   "metadata": {},
   "outputs": [],
   "source": [
    "from pathlib import Path\n",
    "from urllib.parse import urlparse, unquote\n",
    "from zipfile import ZipFile\n",
    "\n",
    "import requests\n",
    "import numpy as np\n",
    "import pandas as pd"
   ]
  },
  {
   "cell_type": "code",
   "execution_count": 3,
   "metadata": {},
   "outputs": [],
   "source": [
    "def download_file(url, dir=None, fname=None, overwrite=False):\n",
    "    \"\"\"Download file from given `url` and put it into `dir`.\n",
    "    Current working directory is used as default. Missing directories are created.\n",
    "    File name from `url` is used as default.\n",
    "    Return absolute pathlib.Path of the downloaded file.\"\"\"\n",
    "    \n",
    "    if dir is None:\n",
    "        dir = '.'\n",
    "    dpath = Path(dir).resolve()\n",
    "    dpath.mkdir(parents=True, exist_ok=True)\n",
    "\n",
    "    if fname is None:\n",
    "        fname = Path(urlparse(url).path).name\n",
    "    fpath = dpath / fname\n",
    "    \n",
    "    if not overwrite and fpath.exists():\n",
    "        print(f'File {fname} already exists.')\n",
    "        return fpath\n",
    "\n",
    "    with requests.get(url) as r:\n",
    "        r.raise_for_status()\n",
    "        with open(fpath, 'wb') as f:\n",
    "            f.write(r.content)\n",
    "    \n",
    "    return fpath\n",
    "\n",
    "def unzip(fpath, dst=None, overwrite=False):\n",
    "    \"\"\"Extract all memberfs of Zip archive `fpath` into `dst` directory (current working directory by default).\"\"\"\n",
    "    dst = Path('.' if dst is None else dst)\n",
    "    with ZipFile(fpath) as zf:\n",
    "        count = 0\n",
    "        for member in zf.namelist():\n",
    "            member_path = dst / member\n",
    "            if overwrite or not member_path.exists():\n",
    "                zf.extract(member, dst)\n",
    "                count += 1\n",
    "        print(f'Extracted {count} files from {fpath.name}.')"
   ]
  },
  {
   "cell_type": "code",
   "execution_count": null,
   "metadata": {},
   "outputs": [],
   "source": [
    "download_file('https://www.bls.gov/cex/pumd/ce_pumd_interview_diary_dictionary.xlsx', 'data')\n",
    "\n",
    "for year in range(1980, 2011):\n",
    "    if year in [1982, 1983]:\n",
    "        # no survey in these years\n",
    "        continue\n",
    "    print(f'Retrieving data for {year}')\n",
    "    url = 'https://www.bls.gov/cex/pumd/data/comma/intrvw{y2}.zip'.format(y2=str(year)[2:])\n",
    "    p = download_file(url, 'data/orig')\n",
    "    unzip(p, p.parent)\n",
    "    print()"
   ]
  },
  {
   "cell_type": "code",
   "execution_count": 3,
   "metadata": {},
   "outputs": [],
   "source": [
    "data_dict_vars = pd.read_excel('data/ce_pumd_interview_diary_dictionary.xlsx', 'Variables')\n",
    "\n",
    "data_dict_codes = pd.read_excel('data/ce_pumd_interview_diary_dictionary.xlsx', 'Codes ')"
   ]
  },
  {
   "cell_type": "markdown",
   "metadata": {},
   "source": [
    "FMLI questions are asked only once per CU, even though some variable are of quarterly periodicity.\n",
    "\n",
    "> On the income side, we use the CE measures of total household labor earnings, total household income before tax, and total household income after tax. These variables are reported in the last interview and cover the previous 12 months."
   ]
  },
  {
   "cell_type": "markdown",
   "metadata": {},
   "source": [
    "> Each annual data release of the CE PUMD is processed using new data and new disclosure avoidance guidelines. For quarters that appear in two different data releases, an \"x\" is added to the end of the file name. This \"x\" is used as an indicator to inform users that the two files were processed under a different set of rules and conditions and therefore the content may differ slightly. It is at the user's discretion as to which file to use."
   ]
  },
  {
   "cell_type": "markdown",
   "metadata": {},
   "source": [
    "# Replication example\n",
    "\n",
    "Aguiar, Mark, and Mark Bils. 2015. “Has Consumption Inequality Mirrored Income Inequality?” American Economic Review 105 (9): 2725–56. https://doi.org/10.1257/aer.20120599.\n",
    "\n",
    "[Online appendix](https://assets.aeaweb.org/asset-server/articles-attachments/aer/app/10509/20120599_app.pdf)\n",
    "\n",
    "[Code and data](http://doi.org/10.3886/E112879V1)\n",
    "\n",
    "Figure 1. Trends in Inequality. Before-tax income line.  \n",
    "![](aguiar_fig1.png)\n",
    "\n",
    "Data years: 1980 - 2010"
   ]
  },
  {
   "cell_type": "markdown",
   "metadata": {},
   "source": [
    "Variables\n",
    "\n",
    "\n",
    "```\n",
    "FINCBTAX\tTotal amount of family income before taxes in the last 12 months (Collected data)\n",
    "NONINCMX\tTotal amount of family income other than money receipts before taxes\n",
    "\n",
    "\n",
    "MISCX4CQ\t\"Adjusted miscellaneous expenditures this quarter (To be used for population estimates - see information under Summary Expenditure Data heading.) \n",
    "MISC1CQ + (4*MISC2CQ)\"\n",
    "MISCX4PQ\tAdjusted miscellaneous expenditures last quarter (To be used for population estimates\n",
    "LIFINSCQ\tLife and other personal insurance this quarter\n",
    "LIFINSPQ\tLife and other personal insurance last quarter\n",
    "\n",
    "```"
   ]
  },
  {
   "cell_type": "markdown",
   "metadata": {},
   "source": [
    "**Construct before-tax income for each surveyed household**\n",
    "> Before-tax income in the CE includes labor earnings, non-farm or farm business income, social security and retirement benefits, social security insurance, unemployment benefits, workers’ compensation, welfare (including food stamps), financial income, rental income, alimony and child support, and scholarships. Our measure of before-tax income is that reported in the CE, but we add in food as pay and other money receipts (e.g., gambling winnings). For consistency, as we count receipts of alimony and child support as income, we subtract off payments of alimony and child support. Finally, as rental equivalence is a consumption expenditure for home owners, we include rental equivalence minus out-of-pocket housing costs as part of before-tax income as well.\n",
    "\n",
    "```sas\n",
    "/* AB: A LOT is going on in building_dataset/CE/quarterly_and_annual_CE_data.sas,\n",
    "but here are the key highlights. */\n",
    "\n",
    "/* READ in FMLY files for 1995 to 2010.  These include spending categories as well as income and demographic variables. */\n",
    "/* AB: for earlier years, these come from ITAB/MTAB */\n",
    "\n",
    "\n",
    "O_FINCBTAX=FINCBTAX;\n",
    "Q_FINC=SUM(0,REQOWN,-OWNDWE,-OWNDW2,-MISCX4,-LIFINS,-ALCHCL,FDMAP); \n",
    "\n",
    "/* Deflate annual and quarterly variables. */\n",
    "ACPI=EXP(LOG(CPI79I{QTR+4}*CPI79I{QTR+3}*CPI79I{QTR+2}*CPI79I{QTR+1})/4);\n",
    "O_FINCBTAR=O_FINCBTAX/(ACPI/100);\n",
    "NONINCMR=NONINCMX/(ACPI/100);\n",
    "ARRAY NCATS{36} ... Q_FINC ...;\n",
    "ARRAY RCATS{36} ... Q_FINCR ...;\n",
    "DO I=1 TO 36;\n",
    "  RCATS{I}=NCATS{I}/(CPI{QTR}/100);\n",
    "END;\n",
    "\n",
    "\n",
    "/* Data conseq.famexp2_ND is used below to create the annual data set ANNUAL2_ND */\n",
    "/* REST OF PROGRAM COMBINES QUARTERS BY ID AND MAKES SAMPLE RESTRICTIONS */\n",
    "\n",
    "\n",
    "* select just interview 5 observations and rename variables;\n",
    "DATA FAM5;\n",
    "  SET conseq.FAMEXP2_ND (\n",
    "    keep=... O_FINCBTAX Q_FINC Q_FINCR O_FINCBTAR NONINCMX NONINCMR ...\n",
    "    rename=(... Q_FINC=Q_FINC_5 ... Q_FINCR=Q_FINCR_5)\n",
    "    where=(intrvw_5=5));\n",
    "  * Use last interview for annual income-like stuff;\n",
    "  A_FINCBTAX=SUM(0,O_FINCBTAX,NONINCMX);\n",
    "  A_FINCBTAR=SUM(0,O_FINCBTAR,NONINCMR);\n",
    "RUN;\n",
    "\n",
    "DATA ANNUAL_ND;\n",
    "  SET ANNUAL;\n",
    "  *add annual and quarterly components of income variables;\n",
    "  FINCBTAX=SUM(0,A_FINCBTAX,Q_FINC_2,Q_FINC_3,Q_FINC_4,Q_FINC_5);\n",
    "  FINCBTAR=SUM(0,A_FINCBTAR,OF Q_FINCR:);\n",
    "RUN;\n",
    "```"
   ]
  },
  {
   "cell_type": "code",
   "execution_count": 135,
   "metadata": {},
   "outputs": [],
   "source": [
    "years = range(1995, 2011)\n",
    "dfs = []\n",
    "for year in years:\n",
    "    y2 = str(year)[2:]\n",
    "    for quarter in [2, 3, 4, 5]:\n",
    "        if quarter < 5:\n",
    "            y2q = f'{y2}{quarter}'\n",
    "        else:\n",
    "            y2q = str(year + 1)[2:] + '1'\n",
    "        if year in [1995, 1998, 2000, 2001]:\n",
    "            fmli_path = f'data/orig/intrvw{y2}/intrvw{y2}/fmli{y2q}.csv'\n",
    "        else:\n",
    "            fmli_path = f'data/orig/intrvw{y2}/fmli{y2q}.csv'\n",
    "        \n",
    "        common_cols = ['NONINCMX', 'AGE_REF', 'BLS_URBN', 'FINLWT21']\n",
    "        if year in [2004, 2005]:\n",
    "            # only imputed value \"FINCBTXM\" is available in 2004 and 2005\n",
    "            # https://www.bls.gov/cex/csximpute.htm\n",
    "            df = pd.read_csv(fmli_path, usecols=['FINCBTXM', 'FINCBTXI'] + common_cols)\n",
    "            flag = df['FINCBTXI']\n",
    "            valid_rows = (flag == 100) | ((flag > 300) & (flag < 400))\n",
    "            df.loc[valid_rows, 'FINCBTAX'] = df['FINCBTXM']\n",
    "            df.drop(columns=['FINCBTXM', 'FINCBTXI'], inplace=True)\n",
    "        else:\n",
    "            df = pd.read_csv(fmli_path, usecols=['FINCBTAX'] + common_cols)\n",
    "        df['YEAR'] = year\n",
    "        df['QUARTER'] = quarter\n",
    "        dfs.append(df)\n",
    "df = pd.concat(dfs)\n",
    "df['A_FINCBTAX'] = df['FINCBTAX'] + df['NONINCMX']\n",
    "df0 = df"
   ]
  },
  {
   "cell_type": "markdown",
   "metadata": {},
   "source": [
    "**Select sample**\n",
    "\n",
    "> CE survey waves from 1981 through 1983 include only urban households, and so for consistency we restrict our analysis to urban residents. Our analysis employs the following further restrictions on the CE urban samples. We restrict households to those with reference persons between the ages of 25 and 64. We only use households who participate in all four interviews, as our income measure and most savings questions are only asked in the final interview. We restrict the sample to those which the CE labels as “complete income reporters,” which corresponds to households with at least one non-zero response to any of the income and benefits questions. We eliminate households that report extremely large expenditure shares on our smaller categories. Finally, to eliminate outliers and mitigate any time-varying impact of top-coding, we exclude households in the top and bottom 5 percent of the before-tax income distribution. (The extent of top coding dictates the 5 percent trimming.) We are left with 62,734 households for 1980–2010. The online data Appendix details how many households are eliminated at each step.\n",
    "\n",
    "```sas\n",
    "/* Sample selection to final dataset. */\n",
    "DATA CONSEQ.ANNUAL2_ND;\n",
    "  SET ANNUAL_ND;\n",
    "  IF GROUPM=3 AND WEIRDEXM=0 AND REPS_INM=1 AND FD_INM=1 AND BLS_URBM='1' AND FINCATAX>=0 AND AGEM='25-64';\n",
    "...\n",
    "RUN;\n",
    "/* Create a new sampling weight, NWEIGHT, so that weights sum to one in each year */\n",
    "PROC SORT DATA=CONSEQ.ANNUAL2_ND;\n",
    " BY YEAR;\n",
    "RUN;\n",
    "proc means data=CONSEQ.ANNUAL2_ND;\n",
    "  var finlwt21 ;\n",
    "  BY YEAR;\n",
    "  output out=weightv mean=mwght;\n",
    "run;\n",
    "data conseq.annual2_ND;\n",
    "  MERGE CONSEQ.ANNUAL2_ND WEIGHTV;\n",
    "  BY YEAR;\n",
    "  NWEIGHT=FINLWT21/MWGHT;\n",
    "  DROP _TYPE_ _FREQ_ MWGHT;\n",
    "RUN;\n",
    "\n",
    "\n",
    "```"
   ]
  },
  {
   "cell_type": "code",
   "execution_count": 161,
   "metadata": {},
   "outputs": [],
   "source": [
    "df = df0.copy()\n",
    "# should be (df['A_FINCBTAX'] >= 0), but this leaves so many zeros, esp in some years, so that mean low income is very small and ratio huge\n",
    "df = df[(df['A_FINCBTAX'] > 0) & df['AGE_REF'].between(25, 64) & (df['BLS_URBN'] == 1)]"
   ]
  },
  {
   "cell_type": "markdown",
   "metadata": {},
   "source": [
    "**Separate households into before-tax income quintile bins**\n",
    "> When documenting differences across income levels, we divide households into 5 bins based on before-tax income, with the respective bins containing the 5–20, 20–40, 40–60, 60–80, and 80–95 percentile groups, respectively.\n",
    "\n",
    "```sas\n",
    "/* building_dataset/CE/quarterly_and_annual_CE_data.sas */\n",
    "proc univariate DATA=CONSEQ.ANNUAL2_ND NOPRINT;\n",
    "  var fincbtar;\n",
    "  by year;\n",
    "  weight finlwt21;\n",
    "  output out=Pctls pctlpts=5 20 40 60 80 95 pctlpre=INC pctlname=P5 P20 P40 P60 P80 P95;\n",
    "run;\n",
    "DATA CONSEQ.ANNUAL2_ND;\n",
    "  MERGE CONSEQ.ANNUAL2_ND PCTLS;\n",
    "  BY YEAR;\n",
    "  INCLASS=.;\n",
    "  IF FINCBTAR>INCP5 AND FINCBTAR<=INCP20 THEN INCLASS=1;\n",
    "  IF FINCBTAR>INCP20 AND FINCBTAR<=INCP40 THEN INCLASS=2;\n",
    "  IF FINCBTAR>INCP40 AND FINCBTAR<=INCP60 THEN INCLASS=3;\n",
    "  IF FINCBTAR>INCP60 AND FINCBTAR<=INCP80 THEN INCLASS=4;\n",
    "  IF FINCBTAR>INCP80 AND FINCBTAR<=INCP95 THEN INCLASS=5;\n",
    "  NT_INCLASS=INCLASS;\n",
    "  IF FINCBTAR NE . AND FINCBTAR<=INCP5 THEN NT_INCLASS=1;\n",
    "  IF FINCBTAR NE . AND FINCBTAR>INCP95 THEN NT_INCLASS=5;\n",
    "  DROP INCP5 INCP20 INCP40 INCP60 INCP80 INCP95; \n",
    "RUN;\n",
    "```"
   ]
  },
  {
   "cell_type": "code",
   "execution_count": 163,
   "metadata": {},
   "outputs": [],
   "source": [
    "# pandas does not have function for weighted quantiles\n",
    "def wquantile(x, w, q):\n",
    "    \"\"\"Return weighted quantiles.\n",
    "    \n",
    "    Using 'nearest' as interpolation rule.\"\"\"\n",
    "    df = pd.DataFrame({'x': x.copy(), 'w': w.copy()}).sort_values('x').reset_index(False)\n",
    "#     df.sort_values('x', inplace=True)\n",
    "    df['w'] /= df['w'].sum()\n",
    "    df['cw'] = df['w'].cumsum()\n",
    "    y = []\n",
    "    for qu in q:\n",
    "        dif = (df['cw'] - qu).abs()\n",
    "        qu_idx = dif.argmin()\n",
    "        y.append(df.at[qu_idx, 'x'])\n",
    "    return pd.Series(y, index=q)"
   ]
  },
  {
   "cell_type": "code",
   "execution_count": 168,
   "metadata": {},
   "outputs": [
    {
     "data": {
      "text/plain": [
       "<matplotlib.axes._subplots.AxesSubplot at 0x7fed9e6a56a0>"
      ]
     },
     "execution_count": 168,
     "metadata": {},
     "output_type": "execute_result"
    },
    {
     "data": {
      "image/png": "[encoded data removed]",
      "text/plain": [
       "<Figure size 432x288 with 1 Axes>"
      ]
     },
     "metadata": {
      "needs_background": "light"
     },
     "output_type": "display_data"
    }
   ],
   "source": [
    "df.groupby('YEAR').apply(lambda d: wquantile(d['A_FINCBTAX'], d['FINLWT21'], [0.05, 0.2, 0.5, 0.8, 0.95])).plot()"
   ]
  },
  {
   "cell_type": "code",
   "execution_count": 133,
   "metadata": {},
   "outputs": [
    {
     "data": {
      "text/plain": [
       "<matplotlib.axes._subplots.AxesSubplot at 0x7fed9c996bb0>"
      ]
     },
     "execution_count": 133,
     "metadata": {},
     "output_type": "execute_result"
    },
    {
     "data": {
      "image/png": "[encoded data removed]",
      "text/plain": [
       "<Figure size 432x288 with 1 Axes>"
      ]
     },
     "metadata": {
      "needs_background": "light"
     },
     "output_type": "display_data"
    }
   ],
   "source": [
    "df.groupby('YEAR').A_FINCBTAX.quantile([0.05, 0.2, 0.5, 0.8, 0.95]).unstack().plot()"
   ]
  },
  {
   "cell_type": "code",
   "execution_count": 178,
   "metadata": {},
   "outputs": [],
   "source": [
    "# quantiles = df.groupby('YEAR')['A_FINCBTAX'].quantile([0, 0.05, 0.2, 0.4, 0.6, 0.8, 0.95, 1])\n",
    "quantiles = df.groupby('YEAR').apply(lambda d: wquantile(d['A_FINCBTAX'], d['FINLWT21'], [0.05, 0.2, 0.5, 0.8, 0.95])).stack()\n",
    "df['INCLASS'] = pd.Series(np.nan, dtype=pd.CategoricalDtype(['low', 'high']))\n",
    "for year in years:\n",
    "    year_rows = (df['YEAR'] == year)\n",
    "    low = quantiles[year][[0.05, 0.2]]\n",
    "    df.loc[year_rows & df['A_FINCBTAX'].between(*low), 'INCLASS'] = 'low'\n",
    "    high = quantiles[year][[0.8, 0.95]]\n",
    "    df.loc[year_rows & df['A_FINCBTAX'].between(*high), 'INCLASS'] = 'high'"
   ]
  },
  {
   "cell_type": "markdown",
   "metadata": {},
   "source": [
    "**Compute average income for each quintile and year**\n",
    "> For each income group in each year, we average expenditure, income, and savings variables across the member households.\n",
    "\n",
    "**Compute and plot ratio**\n",
    "> Our primary measure of inequality is the ratio of the mean of the top income group to the mean of the bottom income group.\n",
    "\n",
    "> The next line in Figure 1 is for before-tax income which, recall, includes trans- fers. Inequality in this broader measure of income is lower at each point in time, but also shows a steady increase over time. In particular, this ratio increases from 4.75 in 1980–1982 to 6.40 in 2005–2007 (third row of Table 1), for an increase of 30 per- cent over this period.\n",
    "\n",
    "\n",
    "```stata\n",
    "/* summary_figures_and_tables.do */\n",
    "*Figure 1;\n",
    "preserve; \n",
    "local variables fsalaryr fincbtar fincatar totexpr;\n",
    "collapse `variables' [aw=nweight], by(year inclass);\n",
    "reshape wide `variables', i(year) j(inclass);\n",
    "outsheet using \"figure1.txt\", delim(\" \") replace; /*this is read into the tex file directly*/\n",
    "restore;\n",
    "```"
   ]
  },
  {
   "cell_type": "code",
   "execution_count": 181,
   "metadata": {},
   "outputs": [
    {
     "data": {
      "image/png": "[encoded data removed]",
      "text/plain": [
       "<Figure size 432x288 with 1 Axes>"
      ]
     },
     "metadata": {
      "needs_background": "light"
     },
     "output_type": "display_data"
    }
   ],
   "source": [
    "# mean_income = df.groupby(['YEAR', 'INCLASS'])['A_FINCBTAX'].mean()\n",
    "mean_income = df.groupby(['YEAR', 'INCLASS']).apply(lambda d: np.average(d['A_FINCBTAX'], weights=d['FINLWT21']))\n",
    "ratio = {}\n",
    "for year in years:\n",
    "    ratio[year] = mean_income[(year, 'high')] / mean_income[(year, 'low')]\n",
    "ratio = pd.Series(ratio)\n",
    "ratio.plot();"
   ]
  },
  {
   "cell_type": "markdown",
   "metadata": {},
   "source": [
    "TODO:\n",
    "- sample restrictions: \n",
    "  - GROUPM=3 (all 4 interviews)\n",
    "  - WEIRDEXM=0 (no expenditure > half income)\n",
    "  - REPS_INM=1 (complete income reporter for last interview)\n",
    "  - FD_INM=1 (food expenditures do not exceed total expenditures)\n",
    "- adjustments from FMLI files (in 1995+): MISCX4, LIFINS, FDMAP\n",
    "- adjustments from quarterly files (ITAB/MTAB): REQOWN, OWNDWE, ALCHCL and the above before 1995\n",
    "- 1980-1994\n"
   ]
  }
 ],
 "metadata": {
  "kernelspec": {
   "display_name": "Python 3",
   "language": "python",
   "name": "python3"
  },
  "language_info": {
   "codemirror_mode": {
    "name": "ipython",
    "version": 3
   },
   "file_extension": ".py",
   "mimetype": "text/x-python",
   "name": "python",
   "nbconvert_exporter": "python",
   "pygments_lexer": "ipython3",
   "version": "3.8.2"
  }
 },
 "nbformat": 4,
 "nbformat_minor": 4
}
